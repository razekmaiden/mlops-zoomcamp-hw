{
 "cells": [
  {
   "cell_type": "markdown",
   "id": "e6349ef9",
   "metadata": {},
   "source": [
    "## Homework\n",
    "\n",
    "The goal of this homework is to get familiar with MLflow."
   ]
  },
  {
   "cell_type": "markdown",
   "id": "56b4ab25",
   "metadata": {},
   "source": [
    "## Q1. Install MLflow\n",
    "\n",
    "To get started with MLflow you'll need to install the MLflow Python package.\n",
    "\n",
    "For this we recommend creating a separate Python environment, for example, you can use [conda environments](https://docs.conda.io/projects/conda/en/latest/user-guide/getting-started.html#managing-envs), and then install the package there with `pip` or `conda`.\n",
    "\n",
    "Once you installed the package, run the command `mlflow --version` and check the output.\n",
    "\n",
    "What's the version that you have?"
   ]
  },
  {
   "cell_type": "code",
   "execution_count": 5,
   "id": "43e73b2d",
   "metadata": {},
   "outputs": [
    {
     "name": "stdout",
     "output_type": "stream",
     "text": [
      "[ANSWER] mlflow version is: 1.26.1\n"
     ]
    }
   ],
   "source": [
    "import mlflow\n",
    "\n",
    "print(f\"[ANSWER] mlflow version is: {mlflow.__version__}\")"
   ]
  },
  {
   "cell_type": "markdown",
   "id": "8f5c5eff",
   "metadata": {},
   "source": [
    "## Q2. Download and preprocess the data\n",
    "\n",
    "We'll use the Green Taxi Trip Records dataset. \n",
    "\n",
    "Download the data for January, February and March 2021 in parquet format from [here](https://www1.nyc.gov/site/tlc/about/tlc-trip-record-data.page).\n",
    "\n",
    "Use the script `preprocess_data.py` located in the folder [`homework`](https://github.com/DataTalksClub/mlops-zoomcamp/tree/main/02-experiment-tracking/homework) to preprocess the data.\n",
    "\n",
    "The script will\n",
    "\n",
    "- load the data from the folder `<TAXI_DATA_FOLDER>` (the folder where you have downloaded the data),\n",
    "- fit a `DictVectorizer` on the training set (January 2021 data),\n",
    "- save the preprocessed datasets and the model to disk\n",
    "\n",
    "Your task is to download the datasets and then execute this command:\n",
    "\n",
    "```\n",
    "python preprocess_data.py --raw_data_path <TAXI_DATA_FOLDER> --dest_path ./output\n",
    "```\n",
    "\n",
    "Tip: go to `02-experiment-tracking/homework/` folder before executing the command and change the value of `<TAXI_DATA_FOLDER>` to the location where you saved the data.\n",
    "\n",
    "How many files were saved to `OUTPUT_FOLDER`?\n",
    "\n",
    "* 1\n",
    "* 3\n",
    "* 4\n",
    "* 7"
   ]
  },
  {
   "cell_type": "code",
   "execution_count": 7,
   "id": "83f246f5",
   "metadata": {},
   "outputs": [],
   "source": [
    "!python homework/preprocess_data.py --raw_data_path data/ --dest_path output/"
   ]
  },
  {
   "cell_type": "code",
   "execution_count": 8,
   "id": "60906345",
   "metadata": {},
   "outputs": [
    {
     "name": "stdout",
     "output_type": "stream",
     "text": [
      "dv.pkl\ttest.pkl  train.pkl  valid.pkl\r\n"
     ]
    }
   ],
   "source": [
    "!ls output"
   ]
  },
  {
   "cell_type": "code",
   "execution_count": 9,
   "id": "1e889805",
   "metadata": {},
   "outputs": [
    {
     "name": "stdout",
     "output_type": "stream",
     "text": [
      "[ANSWER] There are 4 files in output folder\n"
     ]
    }
   ],
   "source": [
    "print(\"[ANSWER] There are 4 files in output folder\")"
   ]
  },
  {
   "cell_type": "markdown",
   "id": "ac5db0a4",
   "metadata": {},
   "source": [
    "## Q3. Train a model with autolog\n",
    "\n",
    "We will train a random forest regressor (from Scikit-Learn) on the taxi dataset.\n",
    "\n",
    "We have prepared the training script `train.py` for this exercise, which can be also found in the folder `homework`. The script will load the datasets produced by the previous step, train the model on the training set and finally calculate the RMSE on the validation set.\n",
    "\n",
    "Your task is to modify the script to enable **autologging** with MLflow, execute the script and then launch the MLflow UI to check that the experiment run was properly tracked. \n",
    "\n",
    "Tip 1: don't forget to wrap the training code with a `with mlflow.start_run():` statement as we showed in the videos.\n",
    "\n",
    "Tip 2: don't modify the hyperparameters of the model to make sure that the training will finish quickly.\n",
    "\n",
    "How many parameters are automatically logged by MLflow?\n",
    "\n",
    "* 19\n",
    "* 17\n",
    "* 10\n",
    "* 20\n"
   ]
  },
  {
   "cell_type": "code",
   "execution_count": 14,
   "id": "6d30e4fc",
   "metadata": {},
   "outputs": [
    {
     "name": "stdout",
     "output_type": "stream",
     "text": [
      "[INFO] RMSE: 6.729070933590364\r\n"
     ]
    }
   ],
   "source": [
    "## No mlflow\n",
    "!python homework/train.py --data_path output/"
   ]
  },
  {
   "cell_type": "code",
   "execution_count": 15,
   "id": "71f4332e",
   "metadata": {},
   "outputs": [
    {
     "name": "stdout",
     "output_type": "stream",
     "text": [
      "2022/05/30 16:27:45 WARNING mlflow.utils.autologging_utils: MLflow autologging encountered a warning: \"/home/innervycs/anaconda3/envs/mlops-hw/lib/python3.9/site-packages/_distutils_hack/__init__.py:30: UserWarning: Setuptools is replacing distutils.\"\n",
      "[INFO] RMSE: 6.729070933590364\n"
     ]
    }
   ],
   "source": [
    "## With mlflow\n",
    "!python homework/train_mlflow.py --data_path output/"
   ]
  },
  {
   "cell_type": "code",
   "execution_count": 17,
   "id": "163efb7c",
   "metadata": {},
   "outputs": [
    {
     "name": "stdout",
     "output_type": "stream",
     "text": [
      "[ANSWER] There was logged 17 parameters\n"
     ]
    }
   ],
   "source": [
    "# See images/image_1.png\n",
    "print(\"[ANSWER] There was logged 17 parameters\")"
   ]
  },
  {
   "cell_type": "markdown",
   "id": "ffad3675",
   "metadata": {},
   "source": [
    "## Q4. Launch the tracking server locally\n",
    "\n",
    "We want to manage the entire lifecycle of our ML model. In this step, you'll need to launch a tracking server. This way we will also have access to the model registry. \n",
    "\n",
    "Your task is to\n",
    "\n",
    "* launch the tracking server on your local machine\n",
    "* select a SQLite db for the backend store and a folder called `artifacts` for the artifacts store\n",
    "\n",
    "You should keep the tracking server running to work on the next two exercises that use the server.\n",
    "\n",
    "In addition to `backend-store-uri`, what else do you need to pass to properly configure the server?\n",
    "\n",
    "* `default-artifact-root`\n",
    "* `serve-artifacts`\n",
    "* `artifacts-only`\n",
    "* `artifacts-destination`"
   ]
  },
  {
   "cell_type": "code",
   "execution_count": 18,
   "id": "e819a7d1",
   "metadata": {},
   "outputs": [
    {
     "name": "stdout",
     "output_type": "stream",
     "text": [
      "[ANSWER] I need to pass 'artifacts-destination' argument to set the artifacts storage path\n"
     ]
    }
   ],
   "source": [
    "# Executed terminal command to run the mlflow tracking server\n",
    "# mlflow ui --backend-store-uri sqlite:///mlflow.db --artifacts-destination artifacts/\n",
    "\n",
    "print(\"[ANSWER] I need to pass 'artifacts-destination' argument to set the artifacts storage path\")"
   ]
  },
  {
   "cell_type": "markdown",
   "id": "ef9ae398",
   "metadata": {},
   "source": [
    "## Q5. Tune the hyperparameters of the model\n",
    "\n",
    "Now let's try to reduce the validation error by tuning the hyperparameters of the random forest regressor using `hyperopt`.\n",
    "\n",
    "We have prepared the script `hpo.py` for this exercise. \n",
    "\n",
    "Your task is to modify the script `hpo.py` and make sure that the validation RMSE is logged to MLflow for each run of the hyperparameter optimization (you will need to add a few lines of code to the `objective` function) and run the script without passing any parameters.\n",
    "\n",
    "After that, open the MLflow UI and explore the runs from the experiment called `random-forest-hyperopt` to answer the question below.\n",
    "\n",
    "Important: don't use autologging for this exercise.\n",
    "\n",
    "The idea is to just log the information that you need to answer the question below, including:\n",
    "\n",
    "* the list of hyperparameters that are passed to the `objective` function during the optimization.\n",
    "* the RMSE obtained on the validation set (February 2021 data).\n",
    "\n",
    "What's the best validation RMSE that you got?\n",
    "\n",
    "* 6.128\n",
    "* 6.628\n",
    "* 7.128\n",
    "* 7.628"
   ]
  },
  {
   "cell_type": "code",
   "execution_count": 23,
   "id": "848e3cf0",
   "metadata": {},
   "outputs": [
    {
     "name": "stdout",
     "output_type": "stream",
     "text": [
      "  0%|                                    | 0/50 [00:00<?, ?trial/s, best loss=?]/home/innervycs/anaconda3/envs/mlops-hw/lib/python3.9/site-packages/_distutils_hack/__init__.py:30: UserWarning: Setuptools is replacing distutils.\n",
      "  warnings.warn(\"Setuptools is replacing distutils.\")\n",
      "\n",
      "100%|█████████| 50/50 [05:42<00:00,  6.85s/trial, best loss: 6.6284257482044735]\n"
     ]
    }
   ],
   "source": [
    "!python homework/hpo_mlflow.py"
   ]
  },
  {
   "cell_type": "code",
   "execution_count": null,
   "id": "27bdbb41",
   "metadata": {},
   "outputs": [],
   "source": [
    "print(\"[ANSWER] The test RMSE of the best model is: 6.628\")"
   ]
  },
  {
   "cell_type": "markdown",
   "id": "b25ed1bd",
   "metadata": {},
   "source": [
    "## Q6. Promote the best model to the model registry\n",
    "\n",
    "The results from the hyperparameter optimization are quite good so we can assume that we are ready to test some of these models in production. In this exercise, you'll promote the best model to the model registry. We have prepared a script called `register_model.py`, which will check the results from the previous step and select the top 5 runs. After that, it will calculate the RMSE of those models on the test set (March 2021 data) and save the results to a new experiment called `random-forest-best-models`.\n",
    "\n",
    "Your task is to update the script `register_model.py` so that it selects the model with the lowest RMSE on the test set and registers it to the model registry.\n",
    "\n",
    "Tip 1: you can use the method `search_runs` from the `MlflowClient` to get the model with the lowest RMSE.\n",
    "Tip 2: to register the model you can use the method `mlflow.register_model` and you will need to pass the right model_uri in the form of a string that looks like this: `\"runs:/<RUN_ID>/model\"`, and the name of the model (make sure to choose a good one!).\n",
    "\n",
    "What is the test RMSE of the best model?\n",
    "\n",
    "* 6.1\n",
    "* 6.55\n",
    "* 7.93\n",
    "* 15.1"
   ]
  },
  {
   "cell_type": "code",
   "execution_count": 27,
   "id": "e0cc2577",
   "metadata": {},
   "outputs": [
    {
     "name": "stdout",
     "output_type": "stream",
     "text": [
      "2022/05/30 18:42:42 WARNING mlflow.utils.autologging_utils: MLflow autologging encountered a warning: \"/home/innervycs/anaconda3/envs/mlops-hw/lib/python3.9/site-packages/_distutils_hack/__init__.py:30: UserWarning: Setuptools is replacing distutils.\"\n",
      "[INFO] Best Run --> run id: 6b263fee632f4d44bc8b0c3b98685596, valid_rmse: 6.6299, test_rmse: 6.5489\n",
      "Registered model 'nyc-green-trip-random-forest' already exists. Creating a new version of this model...\n",
      "2022/05/30 18:43:32 INFO mlflow.tracking._model_registry.client: Waiting up to 300 seconds for model version to finish creation.                     Model name: nyc-green-trip-random-forest, version 2\n",
      "Created version '2' of model 'nyc-green-trip-random-forest'.\n"
     ]
    }
   ],
   "source": [
    "!python homework/register_model.py"
   ]
  },
  {
   "cell_type": "code",
   "execution_count": 28,
   "id": "bde2afe8",
   "metadata": {},
   "outputs": [
    {
     "name": "stdout",
     "output_type": "stream",
     "text": [
      "[ANSWER] The test RMSE of the best model is: 6.55\n"
     ]
    }
   ],
   "source": [
    "print(\"[ANSWER] The test RMSE of the best model is: 6.55\")"
   ]
  }
 ],
 "metadata": {
  "kernelspec": {
   "display_name": "Python 3",
   "language": "python",
   "name": "python3"
  },
  "language_info": {
   "codemirror_mode": {
    "name": "ipython",
    "version": 3
   },
   "file_extension": ".py",
   "mimetype": "text/x-python",
   "name": "python",
   "nbconvert_exporter": "python",
   "pygments_lexer": "ipython3",
   "version": "3.9.12"
  }
 },
 "nbformat": 4,
 "nbformat_minor": 5
}
